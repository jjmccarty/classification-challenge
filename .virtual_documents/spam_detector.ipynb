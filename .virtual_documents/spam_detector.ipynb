


import pandas as pd
from sklearn.model_selection import train_test_split
from sklearn.metrics import accuracy_score
from sklearn.preprocessing import StandardScaler
from sklearn.linear_model import LogisticRegression
from sklearn.ensemble import RandomForestClassifier





# Import the data
data = pd.read_csv("https://static.bc-edx.com/ai/ail-v-1-0/m13/challenge/spam-data.csv")
data.head()


data.columns











# Split training and testing sets
# Create the features DataFrame, X
X = data.copy()
X = X.drop(columns='spam')

# Create the target DataFrame, y
y = data['spam']



# Check the balance of the labels variable (`y`) by using the `value_counts` function.
display(y.value_counts())


# Split the data into X_train, X_test, y_train, y_test
# Use train_test_split to separate the data
X_train, X_test, y_train, y_test = train_test_split(X, y, random_state=1)
X_train.head()








# Create the StandardScaler instance
scaler = StandardScaler()



# Fit the Standard Scaler with the training data
scaler.fit(X_train)


# Scale the training data
X_train_scaled = scaler.transform(X_train)
X_train_scaled





# Train a Logistic Regression model and print the model score
logistic_regression_model = LogisticRegression()


# Fit the model
logistic_regression_model.fit(X_train_scaled, y_train)


# Make and save testing predictions with the saved logistic regression model using the test data
X_test_scaled = scaler.transform(X_test)
X_test_scaled



testing_predictions = logistic_regression_model.predict(X_test_scaled)

# Review the predictions
testing_predictions


# Calculate the accuracy score by evaluating `y_test` vs. `testing_predictions`.
accuracy_score(y_test, testing_predictions)


# Calculate the accuracy score by evaluating `y_test` vs. `testing_predictions`.






# Train a Random Forest Classifier model and print the model score
from sklearn.ensemble import RandomForestClassifier
# Train the Random Forest model
clf = RandomForestClassifier(random_state=1, n_estimators=500)
clf


# Make and save testing predictions with the saved logistic regression model using the test data
clf.fit(X_train_scaled, y_train)
print(f'Training Score: {clf.score(X_train_scaled, y_train)}')
print(f'Testing Score: {clf.score(X_test_scaled, y_test)}')

# Review the predictions
# Make predictions using the testing data
predictions = clf.predict(X_test_scaled)
predictions


# Make and save testing predictions with the saved logistic regression model using the test data


# Review the predictions



accuracy_score(y_test, predictions)


# Calculate the accuracy score by evaluating `y_test` vs. `testing_predictions`.










